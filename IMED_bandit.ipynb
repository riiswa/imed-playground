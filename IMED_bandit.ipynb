{
  "nbformat": 4,
  "nbformat_minor": 0,
  "metadata": {
    "colab": {
      "provenance": [],
      "authorship_tag": "ABX9TyO5yx+vwUgEG4ymVmsceUsL",
      "include_colab_link": true
    },
    "kernelspec": {
      "name": "python3",
      "display_name": "Python 3"
    },
    "language_info": {
      "name": "python"
    }
  },
  "cells": [
    {
      "cell_type": "markdown",
      "metadata": {
        "id": "view-in-github",
        "colab_type": "text"
      },
      "source": [
        "<a href=\"https://colab.research.google.com/github/riiswa/imed-playground/blob/main/IMED_bandit.ipynb\" target=\"_parent\"><img src=\"https://colab.research.google.com/assets/colab-badge.svg\" alt=\"Open In Colab\"/></a>"
      ]
    },
    {
      "cell_type": "code",
      "execution_count": 7,
      "metadata": {
        "colab": {
          "base_uri": "https://localhost:8080/"
        },
        "id": "niGVkyjbliY7",
        "outputId": "ff34de9d-cbfb-4f57-912a-16ccef194158"
      },
      "outputs": [
        {
          "output_type": "stream",
          "name": "stdout",
          "text": [
            "Looking in indexes: https://pypi.org/simple, https://us-python.pkg.dev/colab-wheels/public/simple/\n",
            "Collecting gym-bandits\n",
            "  Cloning https://github.com/JKCooper2/gym-bandits to /tmp/pip-install-e0y6cdeo/gym-bandits_fdf4efca4fb44dcf99f7785d52ce96e0\n",
            "  Running command git clone --filter=blob:none --quiet https://github.com/JKCooper2/gym-bandits /tmp/pip-install-e0y6cdeo/gym-bandits_fdf4efca4fb44dcf99f7785d52ce96e0\n",
            "  Resolved https://github.com/JKCooper2/gym-bandits to commit 417ed323ca2f7298a3abdad34b781fa9f13148f1\n",
            "  Preparing metadata (setup.py) ... \u001b[?25l\u001b[?25hdone\n",
            "Requirement already satisfied: gym in /usr/local/lib/python3.8/dist-packages (from gym-bandits) (0.25.2)\n",
            "Requirement already satisfied: numpy>=1.18.0 in /usr/local/lib/python3.8/dist-packages (from gym->gym-bandits) (1.22.4)\n",
            "Requirement already satisfied: cloudpickle>=1.2.0 in /usr/local/lib/python3.8/dist-packages (from gym->gym-bandits) (2.2.1)\n",
            "Requirement already satisfied: gym-notices>=0.0.4 in /usr/local/lib/python3.8/dist-packages (from gym->gym-bandits) (0.0.8)\n",
            "Requirement already satisfied: importlib-metadata>=4.8.0 in /usr/local/lib/python3.8/dist-packages (from gym->gym-bandits) (6.0.0)\n",
            "Requirement already satisfied: zipp>=0.5 in /usr/local/lib/python3.8/dist-packages (from importlib-metadata>=4.8.0->gym->gym-bandits) (3.15.0)\n",
            "Looking in indexes: https://pypi.org/simple, https://us-python.pkg.dev/colab-wheels/public/simple/\n",
            "Requirement already satisfied: gym in /usr/local/lib/python3.8/dist-packages (0.25.2)\n",
            "Requirement already satisfied: scipy in /usr/local/lib/python3.8/dist-packages (1.7.3)\n",
            "Requirement already satisfied: tqdm in /usr/local/lib/python3.8/dist-packages (4.64.1)\n",
            "Requirement already satisfied: gym-notices>=0.0.4 in /usr/local/lib/python3.8/dist-packages (from gym) (0.0.8)\n",
            "Requirement already satisfied: cloudpickle>=1.2.0 in /usr/local/lib/python3.8/dist-packages (from gym) (2.2.1)\n",
            "Requirement already satisfied: importlib-metadata>=4.8.0 in /usr/local/lib/python3.8/dist-packages (from gym) (6.0.0)\n",
            "Requirement already satisfied: numpy>=1.18.0 in /usr/local/lib/python3.8/dist-packages (from gym) (1.22.4)\n",
            "Requirement already satisfied: zipp>=0.5 in /usr/local/lib/python3.8/dist-packages (from importlib-metadata>=4.8.0->gym) (3.15.0)\n"
          ]
        }
      ],
      "source": [
        "!pip install git+https://github.com/JKCooper2/gym-bandits#egg=gym-bandits\n",
        "!pip install gym scipy tqdm"
      ]
    },
    {
      "cell_type": "code",
      "source": [
        "import gym\n",
        "import gym_bandits\n",
        "\n",
        "env = gym.make(\"BanditTenArmedGaussian-v0\")\n",
        "env.reset()"
      ],
      "metadata": {
        "colab": {
          "base_uri": "https://localhost:8080/"
        },
        "id": "vEvDn2Pstz5w",
        "outputId": "d879a67f-bf29-4276-ffbb-443c2d77a792"
      },
      "execution_count": 2,
      "outputs": [
        {
          "output_type": "stream",
          "name": "stderr",
          "text": [
            "/usr/local/lib/python3.8/dist-packages/gym/core.py:317: DeprecationWarning: \u001b[33mWARN: Initializing wrapper in old step API which returns one bool instead of two. It is recommended to set `new_step_api=True` to use new step API. This will be the default behaviour in future.\u001b[0m\n",
            "  deprecation(\n",
            "/usr/local/lib/python3.8/dist-packages/gym/wrappers/step_api_compatibility.py:39: DeprecationWarning: \u001b[33mWARN: Initializing environment in old step API which returns one bool instead of two. It is recommended to set `new_step_api=True` to use new step API. This will be the default behaviour in future.\u001b[0m\n",
            "  deprecation(\n",
            "/usr/local/lib/python3.8/dist-packages/gym/utils/passive_env_checker.py:174: UserWarning: \u001b[33mWARN: Future gym versions will require that `Env.reset` can be passed a `seed` instead of using `Env.seed` for resetting the environment random number generator.\u001b[0m\n",
            "  logger.warn(\n",
            "/usr/local/lib/python3.8/dist-packages/gym/utils/passive_env_checker.py:190: UserWarning: \u001b[33mWARN: Future gym versions will require that `Env.reset` can be passed `return_info` to return information from the environment resetting.\u001b[0m\n",
            "  logger.warn(\n",
            "/usr/local/lib/python3.8/dist-packages/gym/utils/passive_env_checker.py:195: UserWarning: \u001b[33mWARN: Future gym versions will require that `Env.reset` can be passed `options` to allow the environment initialisation to be passed additional information.\u001b[0m\n",
            "  logger.warn(\n"
          ]
        },
        {
          "output_type": "execute_result",
          "data": {
            "text/plain": [
              "0"
            ]
          },
          "metadata": {},
          "execution_count": 2
        }
      ]
    },
    {
      "cell_type": "code",
      "source": [
        "import numpy as np\n",
        "from scipy.optimize import minimize_scalar\n",
        "import matplotlib.pyplot as plt"
      ],
      "metadata": {
        "id": "SwnSs7a75mCI"
      },
      "execution_count": 3,
      "outputs": []
    },
    {
      "cell_type": "code",
      "source": [
        "def UCB(env, T, alpha=0.25):\n",
        "  best_arm_true_mean = np.array(env.r_dist)[:, 0].max()\n",
        "\n",
        "  regret_history = np.zeros(T)\n",
        "\n",
        "  rewards_sum = np.zeros(env.action_space.n)\n",
        "  pull_counts = np.zeros(env.action_space.n)\n",
        "\n",
        "  for t in range(T):\n",
        "    if t < env.action_space.n: # Pull each arm once\n",
        "      i = t\n",
        "    else:\n",
        "      mu = rewards_sum / pull_counts\n",
        "      indexes = mu + np.sqrt(alpha * np.log(pull_counts.max()) / 2 * pull_counts)\n",
        "      i = indexes.argmax()\n",
        "\n",
        "    _, reward, _, _ = env.step(i)\n",
        "    rewards_sum[i] += reward\n",
        "    pull_counts[i] += 1\n",
        "    if t >= env.action_space.n:\n",
        "      regret_history[t] = best_arm_true_mean -  np.array(env.r_dist)[i, 0]\n",
        "\n",
        "  return regret_history"
      ],
      "metadata": {
        "id": "U1kQ3UeAkq30"
      },
      "execution_count": 4,
      "outputs": []
    },
    {
      "cell_type": "code",
      "source": [
        "def IMED(env, T, upper_bound=5):\n",
        "  def D_inf(X, mu_star):\n",
        "    f = lambda v: np.mean(-np.log(1 - (X - mu_star)*v))\n",
        "    return minimize_scalar(f, bounds=(0, 1/(upper_bound-mu_star)), method='bounded').fun\n",
        "\n",
        "  best_arm_true_mean = np.array(env.r_dist)[:, 0].max()\n",
        "\n",
        "  regret_history = np.zeros(T)\n",
        "\n",
        "  rewards_history = np.zeros((env.action_space.n, T))\n",
        "  chosen_arm = np.full(T, -1, dtype=int)\n",
        "  rewards_sum = np.zeros(env.action_space.n)\n",
        "  pull_counts = np.zeros(env.action_space.n, dtype=int)\n",
        "\n",
        "  for t in range(T):\n",
        "    # Pull each arm once\n",
        "    if t < env.action_space.n: \n",
        "      i = t\n",
        "    else:\n",
        "      mu = rewards_sum / pull_counts\n",
        "      mu_star = mu.max()\n",
        "      _d_inf = np.array(\n",
        "        [D_inf(rewards_history[i, chosen_arm == i], mu_star) for i in range(env.action_space.n)]\n",
        "      )\n",
        "      indexes = pull_counts * _d_inf + np.log(pull_counts)\n",
        "      i = indexes.argmin()\n",
        "    chosen_arm[t] = i\n",
        "    _, reward, _, _ = env.step(i)\n",
        "    rewards_history[i, t] = reward\n",
        "    rewards_sum[i] += reward\n",
        "    pull_counts[i] += 1\n",
        "    regret_history[t] = best_arm_true_mean -  np.array(env.r_dist)[i, 0]\n",
        "\n",
        "  return regret_history"
      ],
      "metadata": {
        "id": "18ry0eFw5soa"
      },
      "execution_count": 5,
      "outputs": []
    },
    {
      "cell_type": "code",
      "source": [
        "from tqdm import tqdm\n",
        "\n",
        "def plot(policy, label):\n",
        "  regret_history =  np.zeros(1000)\n",
        "  for i in tqdm(range(10)):\n",
        "    regret_history += policy()\n",
        "  plt.plot(np.cumsum(regret_history / 10), label=label)\n",
        "\n",
        "plot(lambda : UCB(env, 1000), \"UCB\")\n",
        "plot(lambda : IMED(env, 1000), \"IMED\")\n",
        "plt.title(\"Comparing the regret of UCB and IMED\")\n",
        "plt.legend()"
      ],
      "metadata": {
        "colab": {
          "base_uri": "https://localhost:8080/",
          "height": 335
        },
        "id": "I06ci19NcP2w",
        "outputId": "b8f8981f-37fd-4225-d061-dbf122136f8e"
      },
      "execution_count": 9,
      "outputs": [
        {
          "output_type": "stream",
          "name": "stderr",
          "text": [
            "100%|██████████| 10/10 [00:00<00:00, 16.74it/s]\n",
            "100%|██████████| 10/10 [01:52<00:00, 11.23s/it]\n"
          ]
        },
        {
          "output_type": "execute_result",
          "data": {
            "text/plain": [
              "<matplotlib.legend.Legend at 0x7f66c1d8f9a0>"
            ]
          },
          "metadata": {},
          "execution_count": 9
        },
        {
          "output_type": "display_data",
          "data": {
            "text/plain": [
              "<Figure size 432x288 with 1 Axes>"
            ],
            "image/png": "[encoded data removed]"
          },
          "metadata": {
            "needs_background": "light"
          }
        }
      ]
    }
  ]
}